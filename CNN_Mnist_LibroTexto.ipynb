{
  "nbformat": 4,
  "nbformat_minor": 0,
  "metadata": {
    "colab": {
      "provenance": [],
      "authorship_tag": "ABX9TyPFIOH/YNEUw9G8SZULanO3",
      "include_colab_link": true
    },
    "kernelspec": {
      "name": "python3",
      "display_name": "Python 3"
    },
    "language_info": {
      "name": "python"
    }
  },
  "cells": [
    {
      "cell_type": "markdown",
      "metadata": {
        "id": "view-in-github",
        "colab_type": "text"
      },
      "source": [
        "<a href=\"https://colab.research.google.com/github/a00377571/IBM-Python101/blob/main/CNN_Mnist_LibroTexto.ipynb\" target=\"_parent\"><img src=\"https://colab.research.google.com/assets/colab-badge.svg\" alt=\"Open In Colab\"/></a>"
      ]
    },
    {
      "cell_type": "code",
      "source": [
        "import torchvision\n",
        "from torchvision import transforms\n",
        "import torch # Import the torch module\n",
        "import torch.nn as nn\n",
        "image_path = './'\n",
        "transform = transforms.Compose([transforms.ToTensor()])\n",
        "\n",
        "mnist_dataset = torchvision.datasets.MNIST(root=image_path,\n",
        "                                           train=True,\n",
        "                                           transform=transform,\n",
        "                                           download=True)\n",
        "\n",
        "from torch.utils.data import Subset\n",
        "mnist_valid_dataset = Subset(mnist_dataset, torch.arange(10000))\n",
        "mnist_train_dataset = Subset(mnist_dataset, torch.arange(10000, len(mnist_dataset)))\n",
        "mnist_test_dataset = torchvision.datasets.MNIST(root=image_path,\n",
        "                                           train=False,\n",
        "                                           transform=transform,\n",
        "                                           download=False)"
      ],
      "metadata": {
        "id": "Y4KzNeNerT38"
      },
      "execution_count": 6,
      "outputs": []
    },
    {
      "cell_type": "code",
      "source": [
        "from torch.utils.data import DataLoader\n",
        "\n",
        "\n",
        "batch_size = 64\n",
        "torch.manual_seed(1)\n",
        "train_dl = DataLoader(mnist_train_dataset, batch_size, shuffle=True)\n",
        "valid_dl = DataLoader(mnist_valid_dataset, batch_size, shuffle=False)\n"
      ],
      "metadata": {
        "id": "-nMDqXsgriD5"
      },
      "execution_count": 7,
      "outputs": []
    },
    {
      "cell_type": "code",
      "source": [
        "model = nn.Sequential()\n",
        "model.add_module('conv1', nn.Conv2d(in_channels=1, out_channels=32, kernel_size=5, padding=2))\n",
        "model.add_module('relu1', nn.ReLU())\n",
        "model.add_module('pool1', nn.MaxPool2d(kernel_size=2))\n",
        "model.add_module('conv2', nn.Conv2d(in_channels=32, out_channels=64, kernel_size=5, padding=2))\n",
        "model.add_module('relu2', nn.ReLU())\n",
        "model.add_module('pool2', nn.MaxPool2d(kernel_size=2))\n",
        "\n",
        "x = torch.ones((4, 1, 28, 28))\n",
        "model(x).shape"
      ],
      "metadata": {
        "colab": {
          "base_uri": "https://localhost:8080/"
        },
        "id": "q7t9Q3-mrs29",
        "outputId": "6419ac8f-68a4-4e80-eed2-10ae4084bfb2"
      },
      "execution_count": 8,
      "outputs": [
        {
          "output_type": "execute_result",
          "data": {
            "text/plain": [
              "torch.Size([4, 64, 7, 7])"
            ]
          },
          "metadata": {},
          "execution_count": 8
        }
      ]
    },
    {
      "cell_type": "code",
      "source": [
        "model.add_module('flatten', nn.Flatten())\n",
        "\n",
        "x = torch.ones((4, 1, 28, 28))\n",
        "model(x).shape"
      ],
      "metadata": {
        "colab": {
          "base_uri": "https://localhost:8080/"
        },
        "id": "-VBC6kSkr1XS",
        "outputId": "0e8339a4-4487-4367-e229-8b246d01a87a"
      },
      "execution_count": 9,
      "outputs": [
        {
          "output_type": "execute_result",
          "data": {
            "text/plain": [
              "torch.Size([4, 3136])"
            ]
          },
          "metadata": {},
          "execution_count": 9
        }
      ]
    },
    {
      "cell_type": "code",
      "source": [
        "model.add_module('fc1', nn.Linear(3136, 1024))\n",
        "model.add_module('relu3', nn.ReLU())\n",
        "model.add_module('dropout', nn.Dropout(p=0.5))\n",
        "\n",
        "model.add_module('fc2', nn.Linear(1024, 10))"
      ],
      "metadata": {
        "id": "LhrQGo-or4g3"
      },
      "execution_count": 10,
      "outputs": []
    },
    {
      "cell_type": "code",
      "source": [
        "device = torch.device(\"cuda:0\")\n",
        "device = torch.device(\"cpu\")\n",
        "\n",
        "model = model.to(device)"
      ],
      "metadata": {
        "id": "ZI18pxUzr7ld"
      },
      "execution_count": 12,
      "outputs": []
    },
    {
      "cell_type": "code",
      "source": [
        "loss_fn = nn.CrossEntropyLoss()\n",
        "optimizer = torch.optim.Adam(model.parameters(), lr=0.001)\n",
        "\n",
        "def train(model, num_epochs, train_dl, valid_dl):\n",
        "    loss_hist_train = [0] * num_epochs\n",
        "    accuracy_hist_train = [0] * num_epochs\n",
        "    loss_hist_valid = [0] * num_epochs\n",
        "    accuracy_hist_valid = [0] * num_epochs\n",
        "    for epoch in range(num_epochs):\n",
        "        model.train()\n",
        "        for x_batch, y_batch in train_dl:\n",
        "            x_batch = x_batch.to(device)\n",
        "            y_batch = y_batch.to(device)\n",
        "            pred = model(x_batch)\n",
        "            loss = loss_fn(pred, y_batch)\n",
        "            loss.backward()\n",
        "            optimizer.step()\n",
        "            optimizer.zero_grad()\n",
        "            loss_hist_train[epoch] += loss.item()*y_batch.size(0)\n",
        "            is_correct = (torch.argmax(pred, dim=1) == y_batch).float()\n",
        "            accuracy_hist_train[epoch] += is_correct.sum().cpu()\n",
        "\n",
        "        loss_hist_train[epoch] /= len(train_dl.dataset)\n",
        "        accuracy_hist_train[epoch] /= len(train_dl.dataset)\n",
        "\n",
        "        model.eval()\n",
        "        with torch.no_grad():\n",
        "            for x_batch, y_batch in valid_dl:\n",
        "                x_batch = x_batch.to(device)\n",
        "                y_batch = y_batch.to(device)\n",
        "                pred = model(x_batch)\n",
        "                loss = loss_fn(pred, y_batch)\n",
        "                loss_hist_valid[epoch] += loss.item()*y_batch.size(0)\n",
        "                is_correct = (torch.argmax(pred, dim=1) == y_batch).float()\n",
        "                accuracy_hist_valid[epoch] += is_correct.sum().cpu()\n",
        "\n",
        "        loss_hist_valid[epoch] /= len(valid_dl.dataset)\n",
        "        accuracy_hist_valid[epoch] /= len(valid_dl.dataset)\n",
        "\n",
        "        print(f'Epoch {epoch+1} accuracy: {accuracy_hist_train[epoch]:.4f} val_accuracy: {accuracy_hist_valid[epoch]:.4f}')\n",
        "    return loss_hist_train, loss_hist_valid, accuracy_hist_train, accuracy_hist_valid\n",
        "\n",
        "torch.manual_seed(1)\n",
        "num_epochs = 1\n",
        "hist = train(model, num_epochs, train_dl, valid_dl)"
      ],
      "metadata": {
        "colab": {
          "base_uri": "https://localhost:8080/"
        },
        "id": "cYRs-tuDr-bJ",
        "outputId": "2812f4df-885e-4d8e-ec5f-f5d7961d6c25"
      },
      "execution_count": 15,
      "outputs": [
        {
          "output_type": "stream",
          "name": "stdout",
          "text": [
            "Epoch 1 accuracy: 0.9978 val_accuracy: 0.9902\n"
          ]
        }
      ]
    },
    {
      "cell_type": "code",
      "source": [
        "import matplotlib.pyplot as plt\n",
        "import numpy as np # Import numpy and assign it to the alias 'np'\n",
        "\n",
        "\n",
        "x_arr = np.arange(len(hist[0])) + 1\n",
        "\n",
        "fig = plt.figure(figsize=(12, 4))\n",
        "ax = fig.add_subplot(1, 2, 1)\n",
        "ax.plot(x_arr, hist[0], '-o', label='Train loss')\n",
        "ax.plot(x_arr, hist[1], '--<', label='Validation loss')\n",
        "ax.set_xlabel('Epoch', size=15)\n",
        "ax.set_ylabel('Loss', size=15)\n",
        "ax.legend(fontsize=15)\n",
        "ax = fig.add_subplot(1, 2, 2)\n",
        "ax.plot(x_arr, hist[2], '-o', label='Train acc.')\n",
        "ax.plot(x_arr, hist[3], '--<', label='Validation acc.')\n",
        "ax.legend(fontsize=15)\n",
        "ax.set_xlabel('Epoch', size=15)\n",
        "ax.set_ylabel('Accuracy', size=15)\n",
        "\n",
        "#plt.savefig('figures/14_13.png')\n",
        "plt.show()"
      ],
      "metadata": {
        "colab": {
          "base_uri": "https://localhost:8080/",
          "height": 394
        },
        "id": "RnLCugZnsD9r",
        "outputId": "f8ae0d74-373b-4a94-fde8-60f09b41ac88"
      },
      "execution_count": 17,
      "outputs": [
        {
          "output_type": "display_data",
          "data": {
            "text/plain": [
              "<Figure size 1200x400 with 2 Axes>"
            ],
            "image/png": "[encoded data removed]"
          },
          "metadata": {}
        }
      ]
    },
    {
      "cell_type": "code",
      "source": [
        "#torch.cuda.synchronize()\n",
        "model_cpu = model.cpu()\n",
        "pred = model(mnist_test_dataset.data.unsqueeze(1) / 255.)\n",
        "is_correct = (torch.argmax(pred, dim=1) == mnist_test_dataset.targets).float()\n",
        "print(f'Test accuracy: {is_correct.mean():.4f}')\n"
      ],
      "metadata": {
        "colab": {
          "base_uri": "https://localhost:8080/"
        },
        "id": "DnY0hPYpsH6p",
        "outputId": "2cb1d8cb-3136-4cbb-b2ad-4c2d379d0453"
      },
      "execution_count": 29,
      "outputs": [
        {
          "output_type": "stream",
          "name": "stdout",
          "text": [
            "Test accuracy: 0.9908\n"
          ]
        }
      ]
    },
    {
      "cell_type": "code",
      "source": [
        "fig = plt.figure(figsize=(12, 4))\n",
        "for i in range(12):\n",
        "    ax = fig.add_subplot(2, 6, i+1)\n",
        "    ax.set_xticks([]); ax.set_yticks([])\n",
        "    img = mnist_test_dataset[i][0][0, :, :]\n",
        "    pred = model(img.unsqueeze(0).unsqueeze(1)) # alternatively: mnist_test_dataset.data[i].float()\n",
        "    y_pred = torch.argmax(pred)\n",
        "    ax.imshow(img, cmap='gray_r')\n",
        "    ax.text(0.9, 0.1, y_pred.item(),\n",
        "            size=15, color='blue',\n",
        "            horizontalalignment='center',\n",
        "            verticalalignment='center',\n",
        "            transform=ax.transAxes)\n",
        "\n",
        "\n",
        "#plt.savefig('figures/14_14.png')\n",
        "plt.show()"
      ],
      "metadata": {
        "colab": {
          "base_uri": "https://localhost:8080/",
          "height": 337
        },
        "id": "7KxMl3efsLXY",
        "outputId": "78ef06bb-6de9-4e6d-9dae-a70147ae6e47"
      },
      "execution_count": 33,
      "outputs": [
        {
          "output_type": "display_data",
          "data": {
            "text/plain": [
              "<Figure size 1200x400 with 12 Axes>"
            ],
            "image/png": "[encoded data removed]"
          },
          "metadata": {}
        }
      ]
    },
    {
      "cell_type": "code",
      "source": [
        "import os\n",
        "\n",
        "if not os.path.exists('models'):\n",
        "    os.mkdir('models')\n",
        "\n",
        "path = 'models/mnist-cnn.ph'\n",
        "torch.save(model, path)"
      ],
      "metadata": {
        "id": "e80U2GOosUv3"
      },
      "execution_count": 20,
      "outputs": []
    }
  ]
}